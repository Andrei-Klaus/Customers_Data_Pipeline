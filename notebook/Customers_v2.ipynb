{
 "cells": [
  {
   "cell_type": "code",
   "execution_count": 37,
   "id": "46b57230-7e8e-4418-af50-d3f474b27ec6",
   "metadata": {},
   "outputs": [],
   "source": [
    "import pandas as pd\n",
    "import numpy as np\n",
    "df = pd.read_csv(\"customers-10000.csv\")"
   ]
  },
  {
   "cell_type": "code",
   "execution_count": 38,
   "id": "7bbd1884-1fb4-4399-8b47-f7f86e67a40d",
   "metadata": {},
   "outputs": [
    {
     "name": "stdout",
     "output_type": "stream",
     "text": [
      "<class 'pandas.core.frame.DataFrame'>\n",
      "RangeIndex: 10000 entries, 0 to 9999\n",
      "Data columns (total 12 columns):\n",
      " #   Column             Non-Null Count  Dtype \n",
      "---  ------             --------------  ----- \n",
      " 0   Index              10000 non-null  int64 \n",
      " 1   Customer Id        10000 non-null  object\n",
      " 2   First Name         10000 non-null  object\n",
      " 3   Last Name          10000 non-null  object\n",
      " 4   Company            10000 non-null  object\n",
      " 5   City               10000 non-null  object\n",
      " 6   Country            10000 non-null  object\n",
      " 7   Phone 1            10000 non-null  object\n",
      " 8   Phone 2            10000 non-null  object\n",
      " 9   Email              10000 non-null  object\n",
      " 10  Subscription Date  10000 non-null  object\n",
      " 11  Website            10000 non-null  object\n",
      "dtypes: int64(1), object(11)\n",
      "memory usage: 937.6+ KB\n"
     ]
    }
   ],
   "source": [
    "df.info()"
   ]
  },
  {
   "cell_type": "code",
   "execution_count": 39,
   "id": "4d76e030-1ea9-4775-a95c-6da602040587",
   "metadata": {},
   "outputs": [
    {
     "name": "stdout",
     "output_type": "stream",
     "text": [
      "<class 'pandas.core.frame.DataFrame'>\n",
      "RangeIndex: 10000 entries, 0 to 9999\n",
      "Data columns (total 12 columns):\n",
      " #   Column             Non-Null Count  Dtype \n",
      "---  ------             --------------  ----- \n",
      " 0   index              10000 non-null  int64 \n",
      " 1   customer_id        10000 non-null  object\n",
      " 2   first_name         10000 non-null  object\n",
      " 3   last_name          10000 non-null  object\n",
      " 4   company            10000 non-null  object\n",
      " 5   city               10000 non-null  object\n",
      " 6   country            10000 non-null  object\n",
      " 7   phone_1            10000 non-null  object\n",
      " 8   phone_2            10000 non-null  object\n",
      " 9   email              10000 non-null  object\n",
      " 10  subscription_date  10000 non-null  object\n",
      " 11  website            10000 non-null  object\n",
      "dtypes: int64(1), object(11)\n",
      "memory usage: 937.6+ KB\n"
     ]
    }
   ],
   "source": [
    "df.columns = (\n",
    "    df.columns\n",
    "    .str.strip()\n",
    "    .str.lower()\n",
    "    .str.replace(\" \",\"_\")\n",
    ")\n",
    "df.info()"
   ]
  },
  {
   "cell_type": "code",
   "execution_count": 40,
   "id": "f377b819-e664-455d-abcb-a701b5a82c2a",
   "metadata": {},
   "outputs": [],
   "source": [
    "df.drop_duplicates(\"customer_id\", inplace=True)"
   ]
  },
  {
   "cell_type": "code",
   "execution_count": 41,
   "id": "b2930d92-1ab4-46ad-a162-cb5a8431480c",
   "metadata": {},
   "outputs": [
    {
     "name": "stdout",
     "output_type": "stream",
     "text": [
      "index                10000\n",
      "customer_id          10000\n",
      "first_name           10000\n",
      "last_name            10000\n",
      "company              10000\n",
      "city                 10000\n",
      "country              10000\n",
      "phone_1              10000\n",
      "phone_2              10000\n",
      "email                10000\n",
      "subscription_date    10000\n",
      "website              10000\n",
      "dtype: int64\n"
     ]
    }
   ],
   "source": [
    "print(df.isna().count())"
   ]
  },
  {
   "cell_type": "code",
   "execution_count": 42,
   "id": "a7e55ecf-df3a-4b8f-82db-d41b21c66555",
   "metadata": {},
   "outputs": [
    {
     "name": "stdout",
     "output_type": "stream",
     "text": [
      "0       @espinoza-francis.net\n",
      "1           @hall-donovan.com\n",
      "2         @blevins-sexton.com\n",
      "3                @anthony.com\n",
      "4         @rangel-shields.com\n",
      "                ...          \n",
      "9995              @bates.info\n",
      "9996                @wade.com\n",
      "9997      @barnett-dorsey.com\n",
      "9998     @villegas-wilcox.com\n",
      "9999            @martinez.com\n",
      "Name: email_domain, Length: 10000, dtype: object\n"
     ]
    }
   ],
   "source": [
    "df[\"email_domain\"] = \"@\" + df[\"email\"].str.split(\"@\").str[1]\n",
    "print(df[\"email_domain\"])"
   ]
  },
  {
   "cell_type": "code",
   "execution_count": 43,
   "id": "1b0a4f40-1f31-474d-b3b2-f885de0ca1a5",
   "metadata": {},
   "outputs": [],
   "source": [
    "df[\"full_name\"] = df[\"first_name\"].str.strip() + \" \" + df[\"last_name\"].str.strip()"
   ]
  },
  {
   "cell_type": "code",
   "execution_count": 44,
   "id": "c653e94f-a90c-4199-91fd-86a51977a2aa",
   "metadata": {},
   "outputs": [],
   "source": [
    "df[\"subscription_date\"] = pd.to_datetime(df[\"subscription_date\"])\n",
    "df[\"subscription_year\"] = df[\"subscription_date\"].dt.year\n",
    "df[\"subscription_month\"] = df[\"subscription_date\"].dt.month"
   ]
  },
  {
   "cell_type": "code",
   "execution_count": 45,
   "id": "03080818-1545-4fb4-a723-35d33b7e07a2",
   "metadata": {},
   "outputs": [
    {
     "name": "stdout",
     "output_type": "stream",
     "text": [
      "country\n",
      "Afghanistan          41\n",
      "Albania              49\n",
      "Algeria              33\n",
      "American Samoa       48\n",
      "Andorra              54\n",
      "                     ..\n",
      "Wallis and Futuna    45\n",
      "Western Sahara       42\n",
      "Yemen                44\n",
      "Zambia               43\n",
      "Zimbabwe             48\n",
      "Name: full_name, Length: 243, dtype: int64\n"
     ]
    }
   ],
   "source": [
    "customers_by_country = df.groupby(\"country\")[\"full_name\"].count()\n",
    "print(customers_by_country)"
   ]
  },
  {
   "cell_type": "code",
   "execution_count": 48,
   "id": "170a1ac8-b1f2-4560-9da9-83daed9cad5d",
   "metadata": {},
   "outputs": [],
   "source": [
    "df[\"subscription_age_days\"] =( pd.Timestamp.today() - df[\"subscription_date\"]).dt.days"
   ]
  },
  {
   "cell_type": "code",
   "execution_count": 51,
   "id": "27af149d-36e2-4216-8ead-da4a322660a7",
   "metadata": {},
   "outputs": [],
   "source": [
    "df.to_excel(\"cleaned_customers.xlsx\", index = True)\n",
    "customers_by_country.to_excel(\"customers_by_country.xlsx\", index = True)"
   ]
  },
  {
   "cell_type": "code",
   "execution_count": null,
   "id": "8534075e-f294-48d7-9383-ed93e515ba7a",
   "metadata": {},
   "outputs": [],
   "source": []
  }
 ],
 "metadata": {
  "kernelspec": {
   "display_name": "Python 3 (ipykernel)",
   "language": "python",
   "name": "python3"
  },
  "language_info": {
   "codemirror_mode": {
    "name": "ipython",
    "version": 3
   },
   "file_extension": ".py",
   "mimetype": "text/x-python",
   "name": "python",
   "nbconvert_exporter": "python",
   "pygments_lexer": "ipython3",
   "version": "3.12.10"
  }
 },
 "nbformat": 4,
 "nbformat_minor": 5
}
